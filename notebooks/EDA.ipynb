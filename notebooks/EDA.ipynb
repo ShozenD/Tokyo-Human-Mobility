{
 "metadata": {
  "language_info": {
   "codemirror_mode": {
    "name": "ipython",
    "version": 3
   },
   "file_extension": ".py",
   "mimetype": "text/x-python",
   "name": "python",
   "nbconvert_exporter": "python",
   "pygments_lexer": "ipython3",
   "version": "3.7.6-final"
  },
  "orig_nbformat": 2,
  "kernelspec": {
   "name": "python3",
   "display_name": "Python 3"
  }
 },
 "nbformat": 4,
 "nbformat_minor": 2,
 "cells": [
  {
   "cell_type": "code",
   "execution_count": 1,
   "metadata": {},
   "outputs": [],
   "source": [
    "import pandas as pd\n",
    "import numpy as np\n",
    "import matplotlib.pyplot as plt"
   ]
  },
  {
   "cell_type": "code",
   "execution_count": 2,
   "metadata": {},
   "outputs": [],
   "source": [
    "df = pd.read_csv('../data/floatpop/20190601.csv')"
   ]
  },
  {
   "cell_type": "code",
   "execution_count": 3,
   "metadata": {},
   "outputs": [
    {
     "output_type": "execute_result",
     "data": {
      "text/plain": [
       "Index(['dailyid', 'year', 'month', 'day', 'dayofweek', 'hour', 'minute',\n",
       "       'latitude', 'longitude', 'os', 'home_countryname', 'plmn',\n",
       "       'plmn_countryname', 'setting_currency', 'setting_language',\n",
       "       'setting_country', 'logtype_category', 'logtype_subcategory',\n",
       "       'accuracy', 'speed', 'estimated_speed_flag', 'course',\n",
       "       'estimated_course_flag', 'prefcode', 'citycode', 'mesh100mid',\n",
       "       'home_prefcode', 'home_citycode', 'workplace_prefcode',\n",
       "       'workplace_citycode', 'transportation_type', 'datetime'],\n",
       "      dtype='object')"
      ]
     },
     "metadata": {},
     "execution_count": 3
    }
   ],
   "source": [
    "df.columns"
   ]
  },
  {
   "cell_type": "code",
   "execution_count": 4,
   "metadata": {},
   "outputs": [],
   "source": [
    "df1 = (df.groupby('dailyid')\n",
    ".size()\n",
    ".reset_index(name = 'counts')\n",
    ")"
   ]
  },
  {
   "cell_type": "code",
   "execution_count": 5,
   "metadata": {},
   "outputs": [
    {
     "output_type": "execute_result",
     "data": {
      "text/plain": [
       "42.86264072130813"
      ]
     },
     "metadata": {},
     "execution_count": 5
    }
   ],
   "source": [
    "np.mean(df1['counts'])"
   ]
  },
  {
   "cell_type": "code",
   "execution_count": 6,
   "metadata": {},
   "outputs": [
    {
     "output_type": "execute_result",
     "data": {
      "text/plain": [
       "2342"
      ]
     },
     "metadata": {},
     "execution_count": 6
    }
   ],
   "source": [
    "max(df1['counts'])"
   ]
  },
  {
   "cell_type": "code",
   "execution_count": 7,
   "metadata": {},
   "outputs": [
    {
     "output_type": "execute_result",
     "data": {
      "text/plain": [
       "1"
      ]
     },
     "metadata": {},
     "execution_count": 7
    }
   ],
   "source": [
    "min(df1['counts'])"
   ]
  },
  {
   "cell_type": "code",
   "execution_count": 8,
   "metadata": {},
   "outputs": [
    {
     "output_type": "display_data",
     "data": {
      "text/plain": "<Figure size 432x288 with 1 Axes>",
      "image/svg+xml": "<?xml version=\"1.0\" encoding=\"utf-8\" standalone=\"no\"?>\n<!DOCTYPE svg PUBLIC \"-//W3C//DTD SVG 1.1//EN\"\n  \"http://www.w3.org/Graphics/SVG/1.1/DTD/svg11.dtd\">\n<!-- Created with matplotlib (https://matplotlib.org/) -->\n<svg height=\"248.518125pt\" version=\"1.1\" viewBox=\"0 0 388.0125 248.518125\" width=\"388.0125pt\" xmlns=\"http://www.w3.org/2000/svg\" xmlns:xlink=\"http://www.w3.org/1999/xlink\">\n <metadata>\n  <rdf:RDF xmlns:cc=\"http://creativecommons.org/ns#\" xmlns:dc=\"http://purl.org/dc/elements/1.1/\" xmlns:rdf=\"http://www.w3.org/1999/02/22-rdf-syntax-ns#\">\n   <cc:Work>\n    <dc:type rdf:resource=\"http://purl.org/dc/dcmitype/StillImage\"/>\n    <dc:date>2020-12-06T16:36:48.171557</dc:date>\n    <dc:format>image/svg+xml</dc:format>\n    <dc:creator>\n     <cc:Agent>\n      <dc:title>Matplotlib v3.3.3, https://matplotlib.org/</dc:title>\n     </cc:Agent>\n    </dc:creator>\n   </cc:Work>\n  </rdf:RDF>\n </metadata>\n <defs>\n  <style type=\"text/css\">*{stroke-linecap:butt;stroke-linejoin:round;}</style>\n </defs>\n <g id=\"figure_1\">\n  <g id=\"patch_1\">\n   <path d=\"M 0 248.518125 \nL 388.0125 248.518125 \nL 388.0125 0 \nL 0 0 \nz\n\" style=\"fill:none;\"/>\n  </g>\n  <g id=\"axes_1\">\n   <g id=\"patch_2\">\n    <path d=\"M 46.0125 224.64 \nL 380.8125 224.64 \nL 380.8125 7.2 \nL 46.0125 7.2 \nz\n\" style=\"fill:#ffffff;\"/>\n   </g>\n   <g id=\"patch_3\">\n    <path clip-path=\"url(#p6aaabfbd6d)\" d=\"M 61.230682 224.64 \nL 71.376136 224.64 \nL 71.376136 17.554286 \nL 61.230682 17.554286 \nz\n\" style=\"fill:#1f77b4;\"/>\n   </g>\n   <g id=\"patch_4\">\n    <path clip-path=\"url(#p6aaabfbd6d)\" d=\"M 71.376136 224.64 \nL 81.521591 224.64 \nL 81.521591 189.444518 \nL 71.376136 189.444518 \nz\n\" style=\"fill:#1f77b4;\"/>\n   </g>\n   <g id=\"patch_5\">\n    <path clip-path=\"url(#p6aaabfbd6d)\" d=\"M 81.521591 224.64 \nL 91.667045 224.64 \nL 91.667045 218.506057 \nL 81.521591 218.506057 \nz\n\" style=\"fill:#1f77b4;\"/>\n   </g>\n   <g id=\"patch_6\">\n    <path clip-path=\"url(#p6aaabfbd6d)\" d=\"M 91.667045 224.64 \nL 101.8125 224.64 \nL 101.8125 223.769171 \nL 91.667045 223.769171 \nz\n\" style=\"fill:#1f77b4;\"/>\n   </g>\n   <g id=\"patch_7\">\n    <path clip-path=\"url(#p6aaabfbd6d)\" d=\"M 101.8125 224.64 \nL 111.957955 224.64 \nL 111.957955 224.430238 \nL 101.8125 224.430238 \nz\n\" style=\"fill:#1f77b4;\"/>\n   </g>\n   <g id=\"patch_8\">\n    <path clip-path=\"url(#p6aaabfbd6d)\" d=\"M 111.957955 224.64 \nL 122.103409 224.64 \nL 122.103409 224.608218 \nL 111.957955 224.608218 \nz\n\" style=\"fill:#1f77b4;\"/>\n   </g>\n   <g id=\"patch_9\">\n    <path clip-path=\"url(#p6aaabfbd6d)\" d=\"M 122.103409 224.64 \nL 132.248864 224.64 \nL 132.248864 224.627287 \nL 122.103409 224.627287 \nz\n\" style=\"fill:#1f77b4;\"/>\n   </g>\n   <g id=\"patch_10\">\n    <path clip-path=\"url(#p6aaabfbd6d)\" d=\"M 132.248864 224.64 \nL 142.394318 224.64 \nL 142.394318 224.633644 \nL 132.248864 224.633644 \nz\n\" style=\"fill:#1f77b4;\"/>\n   </g>\n   <g id=\"patch_11\">\n    <path clip-path=\"url(#p6aaabfbd6d)\" d=\"M 142.394318 224.64 \nL 152.539773 224.64 \nL 152.539773 224.627287 \nL 142.394318 224.627287 \nz\n\" style=\"fill:#1f77b4;\"/>\n   </g>\n   <g id=\"patch_12\">\n    <path clip-path=\"url(#p6aaabfbd6d)\" d=\"M 152.539773 224.64 \nL 162.685227 224.64 \nL 162.685227 224.64 \nL 152.539773 224.64 \nz\n\" style=\"fill:#1f77b4;\"/>\n   </g>\n   <g id=\"patch_13\">\n    <path clip-path=\"url(#p6aaabfbd6d)\" d=\"M 162.685227 224.64 \nL 172.830682 224.64 \nL 172.830682 224.64 \nL 162.685227 224.64 \nz\n\" style=\"fill:#1f77b4;\"/>\n   </g>\n   <g id=\"patch_14\">\n    <path clip-path=\"url(#p6aaabfbd6d)\" d=\"M 172.830682 224.64 \nL 182.976136 224.64 \nL 182.976136 224.64 \nL 172.830682 224.64 \nz\n\" style=\"fill:#1f77b4;\"/>\n   </g>\n   <g id=\"patch_15\">\n    <path clip-path=\"url(#p6aaabfbd6d)\" d=\"M 182.976136 224.64 \nL 193.121591 224.64 \nL 193.121591 224.64 \nL 182.976136 224.64 \nz\n\" style=\"fill:#1f77b4;\"/>\n   </g>\n   <g id=\"patch_16\">\n    <path clip-path=\"url(#p6aaabfbd6d)\" d=\"M 193.121591 224.64 \nL 203.267045 224.64 \nL 203.267045 224.64 \nL 193.121591 224.64 \nz\n\" style=\"fill:#1f77b4;\"/>\n   </g>\n   <g id=\"patch_17\">\n    <path clip-path=\"url(#p6aaabfbd6d)\" d=\"M 203.267045 224.64 \nL 213.4125 224.64 \nL 213.4125 224.64 \nL 203.267045 224.64 \nz\n\" style=\"fill:#1f77b4;\"/>\n   </g>\n   <g id=\"patch_18\">\n    <path clip-path=\"url(#p6aaabfbd6d)\" d=\"M 213.4125 224.64 \nL 223.557955 224.64 \nL 223.557955 224.64 \nL 213.4125 224.64 \nz\n\" style=\"fill:#1f77b4;\"/>\n   </g>\n   <g id=\"patch_19\">\n    <path clip-path=\"url(#p6aaabfbd6d)\" d=\"M 223.557955 224.64 \nL 233.703409 224.64 \nL 233.703409 224.64 \nL 223.557955 224.64 \nz\n\" style=\"fill:#1f77b4;\"/>\n   </g>\n   <g id=\"patch_20\">\n    <path clip-path=\"url(#p6aaabfbd6d)\" d=\"M 233.703409 224.64 \nL 243.848864 224.64 \nL 243.848864 224.64 \nL 233.703409 224.64 \nz\n\" style=\"fill:#1f77b4;\"/>\n   </g>\n   <g id=\"patch_21\">\n    <path clip-path=\"url(#p6aaabfbd6d)\" d=\"M 243.848864 224.64 \nL 253.994318 224.64 \nL 253.994318 224.64 \nL 243.848864 224.64 \nz\n\" style=\"fill:#1f77b4;\"/>\n   </g>\n   <g id=\"patch_22\">\n    <path clip-path=\"url(#p6aaabfbd6d)\" d=\"M 253.994318 224.64 \nL 264.139773 224.64 \nL 264.139773 224.64 \nL 253.994318 224.64 \nz\n\" style=\"fill:#1f77b4;\"/>\n   </g>\n   <g id=\"patch_23\">\n    <path clip-path=\"url(#p6aaabfbd6d)\" d=\"M 264.139773 224.64 \nL 274.285227 224.64 \nL 274.285227 224.64 \nL 264.139773 224.64 \nz\n\" style=\"fill:#1f77b4;\"/>\n   </g>\n   <g id=\"patch_24\">\n    <path clip-path=\"url(#p6aaabfbd6d)\" d=\"M 274.285227 224.64 \nL 284.430682 224.64 \nL 284.430682 224.64 \nL 274.285227 224.64 \nz\n\" style=\"fill:#1f77b4;\"/>\n   </g>\n   <g id=\"patch_25\">\n    <path clip-path=\"url(#p6aaabfbd6d)\" d=\"M 284.430682 224.64 \nL 294.576136 224.64 \nL 294.576136 224.64 \nL 284.430682 224.64 \nz\n\" style=\"fill:#1f77b4;\"/>\n   </g>\n   <g id=\"patch_26\">\n    <path clip-path=\"url(#p6aaabfbd6d)\" d=\"M 294.576136 224.64 \nL 304.721591 224.64 \nL 304.721591 224.64 \nL 294.576136 224.64 \nz\n\" style=\"fill:#1f77b4;\"/>\n   </g>\n   <g id=\"patch_27\">\n    <path clip-path=\"url(#p6aaabfbd6d)\" d=\"M 304.721591 224.64 \nL 314.867045 224.64 \nL 314.867045 224.64 \nL 304.721591 224.64 \nz\n\" style=\"fill:#1f77b4;\"/>\n   </g>\n   <g id=\"patch_28\">\n    <path clip-path=\"url(#p6aaabfbd6d)\" d=\"M 314.867045 224.64 \nL 325.0125 224.64 \nL 325.0125 224.64 \nL 314.867045 224.64 \nz\n\" style=\"fill:#1f77b4;\"/>\n   </g>\n   <g id=\"patch_29\">\n    <path clip-path=\"url(#p6aaabfbd6d)\" d=\"M 325.0125 224.64 \nL 335.157955 224.64 \nL 335.157955 224.64 \nL 325.0125 224.64 \nz\n\" style=\"fill:#1f77b4;\"/>\n   </g>\n   <g id=\"patch_30\">\n    <path clip-path=\"url(#p6aaabfbd6d)\" d=\"M 335.157955 224.64 \nL 345.303409 224.64 \nL 345.303409 224.64 \nL 335.157955 224.64 \nz\n\" style=\"fill:#1f77b4;\"/>\n   </g>\n   <g id=\"patch_31\">\n    <path clip-path=\"url(#p6aaabfbd6d)\" d=\"M 345.303409 224.64 \nL 355.448864 224.64 \nL 355.448864 224.64 \nL 345.303409 224.64 \nz\n\" style=\"fill:#1f77b4;\"/>\n   </g>\n   <g id=\"patch_32\">\n    <path clip-path=\"url(#p6aaabfbd6d)\" d=\"M 355.448864 224.64 \nL 365.594318 224.64 \nL 365.594318 224.633644 \nL 355.448864 224.633644 \nz\n\" style=\"fill:#1f77b4;\"/>\n   </g>\n   <g id=\"matplotlib.axis_1\">\n    <g id=\"xtick_1\">\n     <g id=\"line2d_1\">\n      <defs>\n       <path d=\"M 0 0 \nL 0 3.5 \n\" id=\"m8af95cd45c\" style=\"stroke:#000000;stroke-width:0.8;\"/>\n      </defs>\n      <g>\n       <use style=\"stroke:#000000;stroke-width:0.8;\" x=\"61.100667\" xlink:href=\"#m8af95cd45c\" y=\"224.64\"/>\n      </g>\n     </g>\n     <g id=\"text_1\">\n      <!-- 0 -->\n      <g transform=\"translate(57.919417 239.238437)scale(0.1 -0.1)\">\n       <defs>\n        <path d=\"M 31.78125 66.40625 \nQ 24.171875 66.40625 20.328125 58.90625 \nQ 16.5 51.421875 16.5 36.375 \nQ 16.5 21.390625 20.328125 13.890625 \nQ 24.171875 6.390625 31.78125 6.390625 \nQ 39.453125 6.390625 43.28125 13.890625 \nQ 47.125 21.390625 47.125 36.375 \nQ 47.125 51.421875 43.28125 58.90625 \nQ 39.453125 66.40625 31.78125 66.40625 \nz\nM 31.78125 74.21875 \nQ 44.046875 74.21875 50.515625 64.515625 \nQ 56.984375 54.828125 56.984375 36.375 \nQ 56.984375 17.96875 50.515625 8.265625 \nQ 44.046875 -1.421875 31.78125 -1.421875 \nQ 19.53125 -1.421875 13.0625 8.265625 \nQ 6.59375 17.96875 6.59375 36.375 \nQ 6.59375 54.828125 13.0625 64.515625 \nQ 19.53125 74.21875 31.78125 74.21875 \nz\n\" id=\"DejaVuSans-48\"/>\n       </defs>\n       <use xlink:href=\"#DejaVuSans-48\"/>\n      </g>\n     </g>\n    </g>\n    <g id=\"xtick_2\">\n     <g id=\"line2d_2\">\n      <g>\n       <use style=\"stroke:#000000;stroke-width:0.8;\" x=\"126.107852\" xlink:href=\"#m8af95cd45c\" y=\"224.64\"/>\n      </g>\n     </g>\n     <g id=\"text_2\">\n      <!-- 500 -->\n      <g transform=\"translate(116.564102 239.238437)scale(0.1 -0.1)\">\n       <defs>\n        <path d=\"M 10.796875 72.90625 \nL 49.515625 72.90625 \nL 49.515625 64.59375 \nL 19.828125 64.59375 \nL 19.828125 46.734375 \nQ 21.96875 47.46875 24.109375 47.828125 \nQ 26.265625 48.1875 28.421875 48.1875 \nQ 40.625 48.1875 47.75 41.5 \nQ 54.890625 34.8125 54.890625 23.390625 \nQ 54.890625 11.625 47.5625 5.09375 \nQ 40.234375 -1.421875 26.90625 -1.421875 \nQ 22.3125 -1.421875 17.546875 -0.640625 \nQ 12.796875 0.140625 7.71875 1.703125 \nL 7.71875 11.625 \nQ 12.109375 9.234375 16.796875 8.0625 \nQ 21.484375 6.890625 26.703125 6.890625 \nQ 35.15625 6.890625 40.078125 11.328125 \nQ 45.015625 15.765625 45.015625 23.390625 \nQ 45.015625 31 40.078125 35.4375 \nQ 35.15625 39.890625 26.703125 39.890625 \nQ 22.75 39.890625 18.8125 39.015625 \nQ 14.890625 38.140625 10.796875 36.28125 \nz\n\" id=\"DejaVuSans-53\"/>\n       </defs>\n       <use xlink:href=\"#DejaVuSans-53\"/>\n       <use x=\"63.623047\" xlink:href=\"#DejaVuSans-48\"/>\n       <use x=\"127.246094\" xlink:href=\"#DejaVuSans-48\"/>\n      </g>\n     </g>\n    </g>\n    <g id=\"xtick_3\">\n     <g id=\"line2d_3\">\n      <g>\n       <use style=\"stroke:#000000;stroke-width:0.8;\" x=\"191.115036\" xlink:href=\"#m8af95cd45c\" y=\"224.64\"/>\n      </g>\n     </g>\n     <g id=\"text_3\">\n      <!-- 1000 -->\n      <g transform=\"translate(178.390036 239.238437)scale(0.1 -0.1)\">\n       <defs>\n        <path d=\"M 12.40625 8.296875 \nL 28.515625 8.296875 \nL 28.515625 63.921875 \nL 10.984375 60.40625 \nL 10.984375 69.390625 \nL 28.421875 72.90625 \nL 38.28125 72.90625 \nL 38.28125 8.296875 \nL 54.390625 8.296875 \nL 54.390625 0 \nL 12.40625 0 \nz\n\" id=\"DejaVuSans-49\"/>\n       </defs>\n       <use xlink:href=\"#DejaVuSans-49\"/>\n       <use x=\"63.623047\" xlink:href=\"#DejaVuSans-48\"/>\n       <use x=\"127.246094\" xlink:href=\"#DejaVuSans-48\"/>\n       <use x=\"190.869141\" xlink:href=\"#DejaVuSans-48\"/>\n      </g>\n     </g>\n    </g>\n    <g id=\"xtick_4\">\n     <g id=\"line2d_4\">\n      <g>\n       <use style=\"stroke:#000000;stroke-width:0.8;\" x=\"256.12222\" xlink:href=\"#m8af95cd45c\" y=\"224.64\"/>\n      </g>\n     </g>\n     <g id=\"text_4\">\n      <!-- 1500 -->\n      <g transform=\"translate(243.39722 239.238437)scale(0.1 -0.1)\">\n       <use xlink:href=\"#DejaVuSans-49\"/>\n       <use x=\"63.623047\" xlink:href=\"#DejaVuSans-53\"/>\n       <use x=\"127.246094\" xlink:href=\"#DejaVuSans-48\"/>\n       <use x=\"190.869141\" xlink:href=\"#DejaVuSans-48\"/>\n      </g>\n     </g>\n    </g>\n    <g id=\"xtick_5\">\n     <g id=\"line2d_5\">\n      <g>\n       <use style=\"stroke:#000000;stroke-width:0.8;\" x=\"321.129404\" xlink:href=\"#m8af95cd45c\" y=\"224.64\"/>\n      </g>\n     </g>\n     <g id=\"text_5\">\n      <!-- 2000 -->\n      <g transform=\"translate(308.404404 239.238437)scale(0.1 -0.1)\">\n       <defs>\n        <path d=\"M 19.1875 8.296875 \nL 53.609375 8.296875 \nL 53.609375 0 \nL 7.328125 0 \nL 7.328125 8.296875 \nQ 12.9375 14.109375 22.625 23.890625 \nQ 32.328125 33.6875 34.8125 36.53125 \nQ 39.546875 41.84375 41.421875 45.53125 \nQ 43.3125 49.21875 43.3125 52.78125 \nQ 43.3125 58.59375 39.234375 62.25 \nQ 35.15625 65.921875 28.609375 65.921875 \nQ 23.96875 65.921875 18.8125 64.3125 \nQ 13.671875 62.703125 7.8125 59.421875 \nL 7.8125 69.390625 \nQ 13.765625 71.78125 18.9375 73 \nQ 24.125 74.21875 28.421875 74.21875 \nQ 39.75 74.21875 46.484375 68.546875 \nQ 53.21875 62.890625 53.21875 53.421875 \nQ 53.21875 48.921875 51.53125 44.890625 \nQ 49.859375 40.875 45.40625 35.40625 \nQ 44.1875 33.984375 37.640625 27.21875 \nQ 31.109375 20.453125 19.1875 8.296875 \nz\n\" id=\"DejaVuSans-50\"/>\n       </defs>\n       <use xlink:href=\"#DejaVuSans-50\"/>\n       <use x=\"63.623047\" xlink:href=\"#DejaVuSans-48\"/>\n       <use x=\"127.246094\" xlink:href=\"#DejaVuSans-48\"/>\n       <use x=\"190.869141\" xlink:href=\"#DejaVuSans-48\"/>\n      </g>\n     </g>\n    </g>\n   </g>\n   <g id=\"matplotlib.axis_2\">\n    <g id=\"ytick_1\">\n     <g id=\"line2d_6\">\n      <defs>\n       <path d=\"M 0 0 \nL -3.5 0 \n\" id=\"me27f2de3b2\" style=\"stroke:#000000;stroke-width:0.8;\"/>\n      </defs>\n      <g>\n       <use style=\"stroke:#000000;stroke-width:0.8;\" x=\"46.0125\" xlink:href=\"#me27f2de3b2\" y=\"224.64\"/>\n      </g>\n     </g>\n     <g id=\"text_6\">\n      <!-- 0 -->\n      <g transform=\"translate(32.65 228.439219)scale(0.1 -0.1)\">\n       <use xlink:href=\"#DejaVuSans-48\"/>\n      </g>\n     </g>\n    </g>\n    <g id=\"ytick_2\">\n     <g id=\"line2d_7\">\n      <g>\n       <use style=\"stroke:#000000;stroke-width:0.8;\" x=\"46.0125\" xlink:href=\"#me27f2de3b2\" y=\"192.857914\"/>\n      </g>\n     </g>\n     <g id=\"text_7\">\n      <!-- 5000 -->\n      <g transform=\"translate(13.5625 196.657133)scale(0.1 -0.1)\">\n       <use xlink:href=\"#DejaVuSans-53\"/>\n       <use x=\"63.623047\" xlink:href=\"#DejaVuSans-48\"/>\n       <use x=\"127.246094\" xlink:href=\"#DejaVuSans-48\"/>\n       <use x=\"190.869141\" xlink:href=\"#DejaVuSans-48\"/>\n      </g>\n     </g>\n    </g>\n    <g id=\"ytick_3\">\n     <g id=\"line2d_8\">\n      <g>\n       <use style=\"stroke:#000000;stroke-width:0.8;\" x=\"46.0125\" xlink:href=\"#me27f2de3b2\" y=\"161.075829\"/>\n      </g>\n     </g>\n     <g id=\"text_8\">\n      <!-- 10000 -->\n      <g transform=\"translate(7.2 164.875047)scale(0.1 -0.1)\">\n       <use xlink:href=\"#DejaVuSans-49\"/>\n       <use x=\"63.623047\" xlink:href=\"#DejaVuSans-48\"/>\n       <use x=\"127.246094\" xlink:href=\"#DejaVuSans-48\"/>\n       <use x=\"190.869141\" xlink:href=\"#DejaVuSans-48\"/>\n       <use x=\"254.492188\" xlink:href=\"#DejaVuSans-48\"/>\n      </g>\n     </g>\n    </g>\n    <g id=\"ytick_4\">\n     <g id=\"line2d_9\">\n      <g>\n       <use style=\"stroke:#000000;stroke-width:0.8;\" x=\"46.0125\" xlink:href=\"#me27f2de3b2\" y=\"129.293743\"/>\n      </g>\n     </g>\n     <g id=\"text_9\">\n      <!-- 15000 -->\n      <g transform=\"translate(7.2 133.092962)scale(0.1 -0.1)\">\n       <use xlink:href=\"#DejaVuSans-49\"/>\n       <use x=\"63.623047\" xlink:href=\"#DejaVuSans-53\"/>\n       <use x=\"127.246094\" xlink:href=\"#DejaVuSans-48\"/>\n       <use x=\"190.869141\" xlink:href=\"#DejaVuSans-48\"/>\n       <use x=\"254.492188\" xlink:href=\"#DejaVuSans-48\"/>\n      </g>\n     </g>\n    </g>\n    <g id=\"ytick_5\">\n     <g id=\"line2d_10\">\n      <g>\n       <use style=\"stroke:#000000;stroke-width:0.8;\" x=\"46.0125\" xlink:href=\"#me27f2de3b2\" y=\"97.511657\"/>\n      </g>\n     </g>\n     <g id=\"text_10\">\n      <!-- 20000 -->\n      <g transform=\"translate(7.2 101.310876)scale(0.1 -0.1)\">\n       <use xlink:href=\"#DejaVuSans-50\"/>\n       <use x=\"63.623047\" xlink:href=\"#DejaVuSans-48\"/>\n       <use x=\"127.246094\" xlink:href=\"#DejaVuSans-48\"/>\n       <use x=\"190.869141\" xlink:href=\"#DejaVuSans-48\"/>\n       <use x=\"254.492188\" xlink:href=\"#DejaVuSans-48\"/>\n      </g>\n     </g>\n    </g>\n    <g id=\"ytick_6\">\n     <g id=\"line2d_11\">\n      <g>\n       <use style=\"stroke:#000000;stroke-width:0.8;\" x=\"46.0125\" xlink:href=\"#me27f2de3b2\" y=\"65.729571\"/>\n      </g>\n     </g>\n     <g id=\"text_11\">\n      <!-- 25000 -->\n      <g transform=\"translate(7.2 69.52879)scale(0.1 -0.1)\">\n       <use xlink:href=\"#DejaVuSans-50\"/>\n       <use x=\"63.623047\" xlink:href=\"#DejaVuSans-53\"/>\n       <use x=\"127.246094\" xlink:href=\"#DejaVuSans-48\"/>\n       <use x=\"190.869141\" xlink:href=\"#DejaVuSans-48\"/>\n       <use x=\"254.492188\" xlink:href=\"#DejaVuSans-48\"/>\n      </g>\n     </g>\n    </g>\n    <g id=\"ytick_7\">\n     <g id=\"line2d_12\">\n      <g>\n       <use style=\"stroke:#000000;stroke-width:0.8;\" x=\"46.0125\" xlink:href=\"#me27f2de3b2\" y=\"33.947486\"/>\n      </g>\n     </g>\n     <g id=\"text_12\">\n      <!-- 30000 -->\n      <g transform=\"translate(7.2 37.746704)scale(0.1 -0.1)\">\n       <defs>\n        <path d=\"M 40.578125 39.3125 \nQ 47.65625 37.796875 51.625 33 \nQ 55.609375 28.21875 55.609375 21.1875 \nQ 55.609375 10.40625 48.1875 4.484375 \nQ 40.765625 -1.421875 27.09375 -1.421875 \nQ 22.515625 -1.421875 17.65625 -0.515625 \nQ 12.796875 0.390625 7.625 2.203125 \nL 7.625 11.71875 \nQ 11.71875 9.328125 16.59375 8.109375 \nQ 21.484375 6.890625 26.8125 6.890625 \nQ 36.078125 6.890625 40.9375 10.546875 \nQ 45.796875 14.203125 45.796875 21.1875 \nQ 45.796875 27.640625 41.28125 31.265625 \nQ 36.765625 34.90625 28.71875 34.90625 \nL 20.21875 34.90625 \nL 20.21875 43.015625 \nL 29.109375 43.015625 \nQ 36.375 43.015625 40.234375 45.921875 \nQ 44.09375 48.828125 44.09375 54.296875 \nQ 44.09375 59.90625 40.109375 62.90625 \nQ 36.140625 65.921875 28.71875 65.921875 \nQ 24.65625 65.921875 20.015625 65.03125 \nQ 15.375 64.15625 9.8125 62.3125 \nL 9.8125 71.09375 \nQ 15.4375 72.65625 20.34375 73.4375 \nQ 25.25 74.21875 29.59375 74.21875 \nQ 40.828125 74.21875 47.359375 69.109375 \nQ 53.90625 64.015625 53.90625 55.328125 \nQ 53.90625 49.265625 50.4375 45.09375 \nQ 46.96875 40.921875 40.578125 39.3125 \nz\n\" id=\"DejaVuSans-51\"/>\n       </defs>\n       <use xlink:href=\"#DejaVuSans-51\"/>\n       <use x=\"63.623047\" xlink:href=\"#DejaVuSans-48\"/>\n       <use x=\"127.246094\" xlink:href=\"#DejaVuSans-48\"/>\n       <use x=\"190.869141\" xlink:href=\"#DejaVuSans-48\"/>\n       <use x=\"254.492188\" xlink:href=\"#DejaVuSans-48\"/>\n      </g>\n     </g>\n    </g>\n   </g>\n   <g id=\"patch_33\">\n    <path d=\"M 46.0125 224.64 \nL 46.0125 7.2 \n\" style=\"fill:none;stroke:#000000;stroke-linecap:square;stroke-linejoin:miter;stroke-width:0.8;\"/>\n   </g>\n   <g id=\"patch_34\">\n    <path d=\"M 380.8125 224.64 \nL 380.8125 7.2 \n\" style=\"fill:none;stroke:#000000;stroke-linecap:square;stroke-linejoin:miter;stroke-width:0.8;\"/>\n   </g>\n   <g id=\"patch_35\">\n    <path d=\"M 46.0125 224.64 \nL 380.8125 224.64 \n\" style=\"fill:none;stroke:#000000;stroke-linecap:square;stroke-linejoin:miter;stroke-width:0.8;\"/>\n   </g>\n   <g id=\"patch_36\">\n    <path d=\"M 46.0125 7.2 \nL 380.8125 7.2 \n\" style=\"fill:none;stroke:#000000;stroke-linecap:square;stroke-linejoin:miter;stroke-width:0.8;\"/>\n   </g>\n  </g>\n </g>\n <defs>\n  <clipPath id=\"p6aaabfbd6d\">\n   <rect height=\"217.44\" width=\"334.8\" x=\"46.0125\" y=\"7.2\"/>\n  </clipPath>\n </defs>\n</svg>\n",
      "image/png": "[encoded data removed]"
     },
     "metadata": {
      "needs_background": "light"
     }
    }
   ],
   "source": [
    "plt.hist(df1['counts'], bins=30)\n",
    "plt.show()"
   ]
  },
  {
   "cell_type": "code",
   "execution_count": 9,
   "metadata": {},
   "outputs": [],
   "source": [
    "maxid = df1[df1.counts == max(df1['counts'])]['dailyid'].values[0]"
   ]
  },
  {
   "cell_type": "code",
   "execution_count": 10,
   "metadata": {},
   "outputs": [],
   "source": [
    "df2 = df[df['dailyid'] == maxid]"
   ]
  },
  {
   "cell_type": "code",
   "execution_count": 11,
   "metadata": {},
   "outputs": [
    {
     "output_type": "execute_result",
     "data": {
      "text/plain": [
       "Index(['dailyid', 'year', 'month', 'day', 'dayofweek', 'hour', 'minute',\n",
       "       'latitude', 'longitude', 'os', 'home_countryname', 'plmn',\n",
       "       'plmn_countryname', 'setting_currency', 'setting_language',\n",
       "       'setting_country', 'logtype_category', 'logtype_subcategory',\n",
       "       'accuracy', 'speed', 'estimated_speed_flag', 'course',\n",
       "       'estimated_course_flag', 'prefcode', 'citycode', 'mesh100mid',\n",
       "       'home_prefcode', 'home_citycode', 'workplace_prefcode',\n",
       "       'workplace_citycode', 'transportation_type', 'datetime'],\n",
       "      dtype='object')"
      ]
     },
     "metadata": {},
     "execution_count": 11
    }
   ],
   "source": [
    "df2.columns"
   ]
  },
  {
   "cell_type": "code",
   "execution_count": 12,
   "metadata": {},
   "outputs": [
    {
     "output_type": "execute_result",
     "data": {
      "text/plain": [
       "hour\n",
       "10     25\n",
       "11    825\n",
       "13    442\n",
       "14      9\n",
       "15    849\n",
       "18    192\n",
       "dtype: int64"
      ]
     },
     "metadata": {},
     "execution_count": 12
    }
   ],
   "source": [
    "df2[['hour', 'minute']].groupby('hour').size()"
   ]
  },
  {
   "cell_type": "code",
   "execution_count": 13,
   "metadata": {},
   "outputs": [
    {
     "output_type": "execute_result",
     "data": {
      "text/plain": [
       "27.0"
      ]
     },
     "metadata": {},
     "execution_count": 13
    }
   ],
   "source": [
    "np.median(df1['counts'])"
   ]
  },
  {
   "cell_type": "code",
   "execution_count": 14,
   "metadata": {},
   "outputs": [],
   "source": [
    "geq300 = df1[df1['counts'] > 200]['dailyid'].values"
   ]
  },
  {
   "cell_type": "code",
   "execution_count": 15,
   "metadata": {},
   "outputs": [],
   "source": [
    "df_subset = df[df.dailyid.isin(geq300)]"
   ]
  },
  {
   "cell_type": "code",
   "execution_count": 16,
   "metadata": {},
   "outputs": [
    {
     "output_type": "execute_result",
     "data": {
      "text/plain": [
       "hour\n",
       "10    7583\n",
       "11    9320\n",
       "12    8592\n",
       "13    8638\n",
       "14    8299\n",
       "15    8854\n",
       "16    8497\n",
       "17    8263\n",
       "18    8055\n",
       "19    7034\n",
       "20    6628\n",
       "21    5950\n",
       "22    4426\n",
       "23    3000\n",
       "dtype: int64"
      ]
     },
     "metadata": {},
     "execution_count": 16
    }
   ],
   "source": [
    "df_subset[['hour', 'minute']].groupby('hour').size()"
   ]
  },
  {
   "cell_type": "code",
   "execution_count": 17,
   "metadata": {},
   "outputs": [],
   "source": [
    "df_subset = df[['dailyid', 'hour']]"
   ]
  },
  {
   "cell_type": "code",
   "execution_count": 18,
   "metadata": {},
   "outputs": [
    {
     "output_type": "error",
     "ename": "ValueError",
     "evalue": "No axis named hour for object type DataFrame",
     "traceback": [
      "\u001b[0;31m---------------------------------------------------------------------------\u001b[0m",
      "\u001b[0;31mKeyError\u001b[0m                                  Traceback (most recent call last)",
      "\u001b[0;32m/opt/anaconda3/lib/python3.7/site-packages/pandas/core/generic.py\u001b[0m in \u001b[0;36m_get_axis_number\u001b[0;34m(cls, axis)\u001b[0m\n\u001b[1;32m    367\u001b[0m         \u001b[0;32mtry\u001b[0m\u001b[0;34m:\u001b[0m\u001b[0;34m\u001b[0m\u001b[0;34m\u001b[0m\u001b[0m\n\u001b[0;32m--> 368\u001b[0;31m             \u001b[0;32mreturn\u001b[0m \u001b[0mcls\u001b[0m\u001b[0;34m.\u001b[0m\u001b[0m_AXIS_TO_AXIS_NUMBER\u001b[0m\u001b[0;34m[\u001b[0m\u001b[0maxis\u001b[0m\u001b[0;34m]\u001b[0m\u001b[0;34m\u001b[0m\u001b[0;34m\u001b[0m\u001b[0m\n\u001b[0m\u001b[1;32m    369\u001b[0m         \u001b[0;32mexcept\u001b[0m \u001b[0mKeyError\u001b[0m\u001b[0;34m:\u001b[0m\u001b[0;34m\u001b[0m\u001b[0;34m\u001b[0m\u001b[0m\n",
      "\u001b[0;31mKeyError\u001b[0m: 'hour'",
      "\nDuring handling of the above exception, another exception occurred:\n",
      "\u001b[0;31mValueError\u001b[0m                                Traceback (most recent call last)",
      "\u001b[0;32m<ipython-input-18-6617a7b1bc75>\u001b[0m in \u001b[0;36m<module>\u001b[0;34m\u001b[0m\n\u001b[0;32m----> 1\u001b[0;31m \u001b[0mdf_subset\u001b[0m\u001b[0;34m.\u001b[0m\u001b[0mgroupby\u001b[0m\u001b[0;34m(\u001b[0m\u001b[0;34m'dailyid'\u001b[0m\u001b[0;34m,\u001b[0m \u001b[0;34m'hour'\u001b[0m\u001b[0;34m)\u001b[0m\u001b[0;34m.\u001b[0m\u001b[0msize\u001b[0m\u001b[0;34m(\u001b[0m\u001b[0;34m)\u001b[0m\u001b[0;34m\u001b[0m\u001b[0;34m\u001b[0m\u001b[0m\n\u001b[0m",
      "\u001b[0;32m/opt/anaconda3/lib/python3.7/site-packages/pandas/core/frame.py\u001b[0m in \u001b[0;36mgroupby\u001b[0;34m(self, by, axis, level, as_index, sort, group_keys, squeeze, observed, dropna)\u001b[0m\n\u001b[1;32m   6506\u001b[0m         \u001b[0;32mif\u001b[0m \u001b[0mlevel\u001b[0m \u001b[0;32mis\u001b[0m \u001b[0;32mNone\u001b[0m \u001b[0;32mand\u001b[0m \u001b[0mby\u001b[0m \u001b[0;32mis\u001b[0m \u001b[0;32mNone\u001b[0m\u001b[0;34m:\u001b[0m\u001b[0;34m\u001b[0m\u001b[0;34m\u001b[0m\u001b[0m\n\u001b[1;32m   6507\u001b[0m             \u001b[0;32mraise\u001b[0m \u001b[0mTypeError\u001b[0m\u001b[0;34m(\u001b[0m\u001b[0;34m\"You have to supply one of 'by' and 'level'\"\u001b[0m\u001b[0;34m)\u001b[0m\u001b[0;34m\u001b[0m\u001b[0;34m\u001b[0m\u001b[0m\n\u001b[0;32m-> 6508\u001b[0;31m         \u001b[0maxis\u001b[0m \u001b[0;34m=\u001b[0m \u001b[0mself\u001b[0m\u001b[0;34m.\u001b[0m\u001b[0m_get_axis_number\u001b[0m\u001b[0;34m(\u001b[0m\u001b[0maxis\u001b[0m\u001b[0;34m)\u001b[0m\u001b[0;34m\u001b[0m\u001b[0;34m\u001b[0m\u001b[0m\n\u001b[0m\u001b[1;32m   6509\u001b[0m \u001b[0;34m\u001b[0m\u001b[0m\n\u001b[1;32m   6510\u001b[0m         return DataFrameGroupBy(\n",
      "\u001b[0;32m/opt/anaconda3/lib/python3.7/site-packages/pandas/core/generic.py\u001b[0m in \u001b[0;36m_get_axis_number\u001b[0;34m(cls, axis)\u001b[0m\n\u001b[1;32m    368\u001b[0m             \u001b[0;32mreturn\u001b[0m \u001b[0mcls\u001b[0m\u001b[0;34m.\u001b[0m\u001b[0m_AXIS_TO_AXIS_NUMBER\u001b[0m\u001b[0;34m[\u001b[0m\u001b[0maxis\u001b[0m\u001b[0;34m]\u001b[0m\u001b[0;34m\u001b[0m\u001b[0;34m\u001b[0m\u001b[0m\n\u001b[1;32m    369\u001b[0m         \u001b[0;32mexcept\u001b[0m \u001b[0mKeyError\u001b[0m\u001b[0;34m:\u001b[0m\u001b[0;34m\u001b[0m\u001b[0;34m\u001b[0m\u001b[0m\n\u001b[0;32m--> 370\u001b[0;31m             \u001b[0;32mraise\u001b[0m \u001b[0mValueError\u001b[0m\u001b[0;34m(\u001b[0m\u001b[0;34mf\"No axis named {axis} for object type {cls.__name__}\"\u001b[0m\u001b[0;34m)\u001b[0m\u001b[0;34m\u001b[0m\u001b[0;34m\u001b[0m\u001b[0m\n\u001b[0m\u001b[1;32m    371\u001b[0m \u001b[0;34m\u001b[0m\u001b[0m\n\u001b[1;32m    372\u001b[0m     \u001b[0;34m@\u001b[0m\u001b[0mclassmethod\u001b[0m\u001b[0;34m\u001b[0m\u001b[0;34m\u001b[0m\u001b[0m\n",
      "\u001b[0;31mValueError\u001b[0m: No axis named hour for object type DataFrame"
     ]
    }
   ],
   "source": [
    "df_subset.groupby('dailyid', 'hour').size()"
   ]
  },
  {
   "cell_type": "code",
   "execution_count": 21,
   "metadata": {},
   "outputs": [],
   "source": [
    "subset = df1[df1.counts >= 100].dailyid.values"
   ]
  },
  {
   "cell_type": "code",
   "execution_count": 22,
   "metadata": {},
   "outputs": [],
   "source": [
    "df_subset = df[df.dailyid.isin(subset)]"
   ]
  },
  {
   "cell_type": "code",
   "execution_count": 23,
   "metadata": {},
   "outputs": [],
   "source": [
    "df_subset = df_subset[['dailyid', 'hour']]"
   ]
  },
  {
   "cell_type": "code",
   "execution_count": 24,
   "metadata": {},
   "outputs": [],
   "source": [
    "df_subset = df_subset.groupby(['dailyid', 'hour']).size().reset_index(name='counts')"
   ]
  },
  {
   "cell_type": "code",
   "execution_count": 25,
   "metadata": {},
   "outputs": [
    {
     "output_type": "execute_result",
     "data": {
      "text/plain": [
       "array(['000ed5ec3e34be914501c3850b8e17c28cccffd050714695d685fc54a0e103fd164ec05582bff289d003d61a7d15e3e3',\n",
       "       '001390caedf98bceb08fdfb03322130e5465f2e5b7247a245bb8c0cda3b076cb3ea6f820204d530c64d414cad99c72ef',\n",
       "       '00374a683350ab9b09415b41fc8ae0724fcd93b47474f0d5876833ad0f23fc495243b86be9a1952a54c14a3a61a34837',\n",
       "       ...,\n",
       "       'ff9a81afe209374036da3372b7eee61b4219e976e22d979868a68fd8bceea6b2d946e6a8aec4effb82002f87289c90bf',\n",
       "       'ffe74bb7098c5b9d7ca052cbe7da90cfeff4aad39a01dda8c527475c2aee904f533381476156bfc4d3303f2b7dd42c42',\n",
       "       'ffe9c3c4cf49e729cfe898cf676aeec1c2ad242a404ebe61e36668ee587151b52ce59880c513059d600a4a0766176853'],\n",
       "      dtype=object)"
      ]
     },
     "metadata": {},
     "execution_count": 25
    }
   ],
   "source": [
    "df_subset.dailyid.unique()"
   ]
  },
  {
   "cell_type": "code",
   "execution_count": 26,
   "metadata": {},
   "outputs": [],
   "source": [
    "import folium"
   ]
  },
  {
   "cell_type": "code",
   "execution_count": 27,
   "metadata": {},
   "outputs": [
    {
     "output_type": "execute_result",
     "data": {
      "text/plain": [
       "<folium.folium.Map at 0x7faa7442dd10>"
      ],
      "text/html": "<div style=\"width:100%;\"><div style=\"position:relative;width:100%;height:0;padding-bottom:60%;\"><span style=\"color:#565656\">Make this Notebook Trusted to load map: File -> Trust Notebook</span><iframe src=\"about:blank\" style=\"position:absolute;width:100%;height:100%;left:0;top:0;border:none !important;\" data-html=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 onload=\"this.contentDocument.open();this.contentDocument.write(atob(this.getAttribute('data-html')));this.contentDocument.close();\" allowfullscreen webkitallowfullscreen mozallowfullscreen></iframe></div></div>"
     },
     "metadata": {},
     "execution_count": 27
    }
   ],
   "source": [
    "test_subject = df_subset.dailyid.unique()[51]\n",
    "locs = df[df.dailyid == test_subject][['latitude', 'longitude']].to_numpy()\n",
    "\n",
    "# generate map\n",
    "m = folium.Map(location=locs[0,:], zoom_start=10)\n",
    "folium.PolyLine(locs, color='red', weight=5, opacity=0.7).add_to(m)\n",
    "m"
   ]
  },
  {
   "cell_type": "code",
   "execution_count": null,
   "metadata": {},
   "outputs": [],
   "source": []
  }
 ]
}