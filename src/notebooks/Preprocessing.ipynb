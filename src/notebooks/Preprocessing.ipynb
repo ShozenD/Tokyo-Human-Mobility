{
 "metadata": {
  "language_info": {
   "codemirror_mode": {
    "name": "ipython",
    "version": 3
   },
   "file_extension": ".py",
   "mimetype": "text/x-python",
   "name": "python",
   "nbconvert_exporter": "python",
   "pygments_lexer": "ipython3",
   "version": "3.7.6-final"
  },
  "orig_nbformat": 2,
  "kernelspec": {
   "name": "python3",
   "display_name": "Python 3"
  }
 },
 "nbformat": 4,
 "nbformat_minor": 2,
 "cells": [
  {
   "source": [
    "# Exploratory Data Analysis \n",
    "\n",
    "Date: Oct. 31, 2020"
   ],
   "cell_type": "markdown",
   "metadata": {}
  },
  {
   "cell_type": "code",
   "execution_count": 1,
   "metadata": {},
   "outputs": [],
   "source": [
    "# Import Libraries\n",
    "import pandas as pd\n",
    "import numpy as np\n",
    "import math\n",
    "from scipy import spatial\n",
    "\n",
    "# Natural Language Processing\n",
    "import re\n",
    "from nltk.util import ngrams\n",
    "from nltk import FreqDist"
   ]
  },
  {
   "cell_type": "code",
   "execution_count": 87,
   "metadata": {},
   "outputs": [],
   "source": [
    "df = pd.read_csv('../../data/floatpop/20190601_23.csv')"
   ]
  },
  {
   "cell_type": "code",
   "execution_count": 114,
   "metadata": {},
   "outputs": [],
   "source": [
    "class Preprocessor:\n",
    "    def __init__(self, df):\n",
    "        self.df = df\n",
    "\n",
    "    def shift(self):\n",
    "        \"\"\"\n",
    "        Calculate the interval between observations\n",
    "        \"\"\"\n",
    "        self.df = (\n",
    "            self.df.loc[:,[\"dailyid\", \"hour\", \"minute\", \"latitude\", \"longitude\"]]\n",
    "            .sort_values(by=[\"dailyid\", \"hour\", \"minute\"])\n",
    "        )\n",
    "        self.df[\"hour_lag\"] = self.df.groupby([\"dailyid\"])[\"hour\"].shift(1)\n",
    "        self.df[\"minute_lag\"] = self.df.groupby([\"dailyid\"])[\"minute\"].shift(1)\n",
    "        self.df[\"shift\"] = 60*(self.df[\"hour\"]-self.df[\"hour_lag\"]) + self.df[\"minute\"]-self.df[\"minute_lag\"]\n",
    "        self.df.reset_index().drop([\"index\"], axis=1, inplace=True)\n",
    "    \n",
    "    def label_trip(self, th):\n",
    "        # Calculate Shift\n",
    "        self.shift()\n",
    "\n",
    "        arr = self.df.to_numpy()\n",
    "\n",
    "        trip = np.zeros(len(self.df))\n",
    "        trip_label = 1\n",
    "        start_end_idx = [0]\n",
    "        for i, row in enumerate(arr):\n",
    "            shft = row[-1]\n",
    "            if  np.isnan(shft):\n",
    "                # reset\n",
    "                trip_id = 1\n",
    "                trip_label = 1\n",
    "                trip[i] = trip_label\n",
    "                # start end index\n",
    "                if i != 0:\n",
    "                    start_end_idx.append(i-1)\n",
    "                    start_end_idx.append(i)\n",
    "            elif shft >= th:\n",
    "                trip_label = trip_label + 1\n",
    "                trip[i] = trip_label\n",
    "                start_end_idx.append(i-1)\n",
    "                start_end_idx.append(i)\n",
    "            else:\n",
    "                trip[i] = trip_label\n",
    "\n",
    "        arr = np.column_stack((arr,trip))\n",
    "        \n",
    "        self.df = pd.DataFrame(\n",
    "            data = arr[start_end_idx,:],\n",
    "            columns = [\"dailyid\", \"hour\", \"minute\", \"latitude\", \"longitude\", \"hour_lag\", \"minute_lag\", \"shift\", \"trip_label\"]\n",
    "        )"
   ]
  },
  {
   "cell_type": "code",
   "execution_count": 115,
   "metadata": {
    "tags": []
   },
   "outputs": [],
   "source": [
    "setup = Preprocessor(df)\n",
    "setup.label_trip(30)\n",
    "df = setup.df"
   ]
  },
  {
   "cell_type": "code",
   "execution_count": 119,
   "metadata": {},
   "outputs": [],
   "source": [
    "stations = pd.read_excel(\"../../station_data/station.xlsx\")\n",
    "mask = [re.match(\"^(1|20)\", addr) is not None for addr in stations.post]\n",
    "tokyo_stations = stations[mask]"
   ]
  },
  {
   "cell_type": "code",
   "execution_count": 139,
   "metadata": {},
   "outputs": [],
   "source": [
    "tree = spatial.KDTree(tokyo_stations.loc[:,[\"lat\", \"long\"]], leafsize=100)"
   ]
  },
  {
   "cell_type": "code",
   "execution_count": 140,
   "metadata": {},
   "outputs": [],
   "source": [
    "closest_station = []\n",
    "for lat, lon in zip(df.latitude.to_numpy(), df.longitude.to_numpy()):\n",
    "    loc = np.array([lat, lon])\n",
    "    dist, idx = tree.query(loc)\n",
    "    station_name = tokyo_stations.iloc[idx,:][\"station_name\"] # get station name\n",
    "    closest_station.append(station_name)"
   ]
  },
  {
   "cell_type": "code",
   "execution_count": 143,
   "metadata": {},
   "outputs": [],
   "source": [
    "bigram_fd = FreqDist(list(ngrams(closest_station, 2))[::2])\n",
    "bigram_df = pd.DataFrame(bigram_fd.most_common(), columns=['bigram', 'count'])\n",
    "bigram_df = pd.read_csv('../../data/bigram.csv')"
   ]
  }
 ]
}