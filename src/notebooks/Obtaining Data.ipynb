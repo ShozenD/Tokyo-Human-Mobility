{
 "metadata": {
  "language_info": {
   "codemirror_mode": {
    "name": "ipython",
    "version": 3
   },
   "file_extension": ".py",
   "mimetype": "text/x-python",
   "name": "python",
   "nbconvert_exporter": "python",
   "pygments_lexer": "ipython3",
   "version": "3.7.6-final"
  },
  "orig_nbformat": 2,
  "kernelspec": {
   "name": "python3",
   "display_name": "Python 3"
  }
 },
 "nbformat": 4,
 "nbformat_minor": 2,
 "cells": [
  {
   "cell_type": "code",
   "execution_count": 1,
   "metadata": {},
   "outputs": [],
   "source": [
    "import os\n",
    "import pandas as pd \n",
    "from datetime import datetime\n",
    "from key import API_LINKS, CONSUMER_KEY\n",
    "from api import get_citycodes_by_pref"
   ]
  },
  {
   "cell_type": "code",
   "execution_count": 2,
   "metadata": {},
   "outputs": [],
   "source": [
    "def filter_by_transport(df, transport_type, citycodes):\n",
    "    \"\"\"Filters floating population data by transportaition type\"\"\"\n",
    "    targetcols = ['dailyid', 'year', 'month', 'day', 'dayofweek', 'hour', 'minute', 'latitude', 'longitude', 'citycode', 'transportation_type']\n",
    "    transcodes = { 'stop': 1,'walk': 2,'bicycle': 5,'train': 7,'car': 8 } # refer to Agoop data document\n",
    "\n",
    "    if df is None:\n",
    "        raise Exception(\"No dataframe was passed to function!\")\n",
    "\n",
    "    if citycodes is None:\n",
    "        raise Exception(\"Please specify citycodes!\")\n",
    "\n",
    "    if transport_type is None:\n",
    "        raise Exception(\"Please specify transport type!\")\n",
    "    elif transport_type not in transcodes.keys():\n",
    "        raise Exception(\"Invalid trasport type. Available: (stop, walk, bicycle, train, car)\")\n",
    "\n",
    "    df = df.loc[:,targetcols]\n",
    "    df = df[df.citycode.isin(citycodes)]\n",
    "    df = df[df.transportation_type == transcodes[transport_type]]\n",
    "\n",
    "    return df"
   ]
  },
  {
   "cell_type": "code",
   "execution_count": 3,
   "metadata": {},
   "outputs": [],
   "source": [
    "def get_data(path: str, start: str, days: int, prefname: str, transport: str, verbose=True):\n",
    "    \"\"\"Get Agoop floating population data\n",
    "\n",
    "    Keyword arguments:\n",
    "    path - Path to directory in which the data will be stored \n",
    "    start - Starting date in 'yyyy-mm-dd' format\n",
    "    days - Number of days of data we want to obtain\n",
    "    city - Data from which city?\n",
    "    transport - Which mode of transportation\n",
    "    verbose - Show progress?\n",
    "    \"\"\"\n",
    "\n",
    "    citycodes = get_citycodes_by_pref(prefname=prefname)\n",
    "    periods = days * 24\n",
    "    df_list = []\n",
    "    for timestamp in pd.date_range(start=start, periods=periods, freq='H').tolist():\n",
    "        if timestamp.hour > 9: # No data available before 10 a.m. \n",
    "            datestring = datetime.strftime(timestamp, \"%Y%m%d_%H\")\n",
    "            try:\n",
    "                if verbose: print('Obtaining data from {}'.format(timestamp))\n",
    "\n",
    "                df = pd.read_csv(API_LINKS['floatpoint']['url'].format(datestring, CONSUMER_KEY))\n",
    "                df = filter_by_transport(df, transport, citycodes)\n",
    "                df['datetime'] = timestamp\n",
    "\n",
    "                if df is not None:\n",
    "                    df_list.append(df) \n",
    "            except:\n",
    "                continue\n",
    "        if timestamp.hour == 23: # end of day\n",
    "            try: \n",
    "                day = pd.concat(df_list)\n",
    "                day.to_csv(os.path.join(path, '{}.csv'.format(datestring)))\n",
    "                df_list = [] # empty list\n",
    "            except:\n",
    "                df_list = []\n",
    "                continue\n",
    "    \n",
    "    print('Done!')"
   ]
  },
  {
   "cell_type": "code",
   "execution_count": 4,
   "metadata": {},
   "outputs": [
    {
     "output_type": "stream",
     "name": "stdout",
     "text": [
      "Obtaining data from 2019-06-01 10:00:00\n",
      "Obtaining data from 2019-06-01 11:00:00\n",
      "Obtaining data from 2019-06-01 12:00:00\n",
      "Obtaining data from 2019-06-01 13:00:00\n",
      "Obtaining data from 2019-06-01 14:00:00\n",
      "Obtaining data from 2019-06-01 15:00:00\n",
      "Obtaining data from 2019-06-01 16:00:00\n",
      "Obtaining data from 2019-06-01 17:00:00\n",
      "Obtaining data from 2019-06-01 18:00:00\n",
      "Obtaining data from 2019-06-01 19:00:00\n",
      "Obtaining data from 2019-06-01 20:00:00\n",
      "Obtaining data from 2019-06-01 21:00:00\n",
      "Obtaining data from 2019-06-01 22:00:00\n",
      "Obtaining data from 2019-06-01 23:00:00\n",
      "Obtaining data from 2019-06-02 10:00:00\n",
      "Obtaining data from 2019-06-02 11:00:00\n",
      "Obtaining data from 2019-06-02 12:00:00\n",
      "Obtaining data from 2019-06-02 13:00:00\n",
      "Obtaining data from 2019-06-02 14:00:00\n",
      "Obtaining data from 2019-06-02 15:00:00\n",
      "Obtaining data from 2019-06-02 16:00:00\n",
      "Obtaining data from 2019-06-02 17:00:00\n",
      "Obtaining data from 2019-06-02 18:00:00\n",
      "Obtaining data from 2019-06-02 19:00:00\n",
      "Obtaining data from 2019-06-02 20:00:00\n",
      "Obtaining data from 2019-06-02 21:00:00\n",
      "Obtaining data from 2019-06-02 22:00:00\n",
      "Obtaining data from 2019-06-02 23:00:00\n",
      "Obtaining data from 2019-06-03 10:00:00\n",
      "Obtaining data from 2019-06-03 11:00:00\n",
      "Obtaining data from 2019-06-03 12:00:00\n",
      "Obtaining data from 2019-06-03 13:00:00\n",
      "Obtaining data from 2019-06-03 14:00:00\n",
      "Obtaining data from 2019-06-03 15:00:00\n",
      "Obtaining data from 2019-06-03 16:00:00\n",
      "Obtaining data from 2019-06-03 17:00:00\n",
      "Obtaining data from 2019-06-03 18:00:00\n",
      "Obtaining data from 2019-06-03 19:00:00\n",
      "Obtaining data from 2019-06-03 20:00:00\n",
      "Obtaining data from 2019-06-03 21:00:00\n",
      "Obtaining data from 2019-06-03 22:00:00\n",
      "Obtaining data from 2019-06-03 23:00:00\n",
      "Obtaining data from 2019-06-04 10:00:00\n",
      "Obtaining data from 2019-06-04 11:00:00\n",
      "Obtaining data from 2019-06-04 12:00:00\n",
      "Obtaining data from 2019-06-04 13:00:00\n",
      "Obtaining data from 2019-06-04 14:00:00\n",
      "Obtaining data from 2019-06-04 15:00:00\n",
      "Obtaining data from 2019-06-04 16:00:00\n",
      "Obtaining data from 2019-06-04 17:00:00\n",
      "Obtaining data from 2019-06-04 18:00:00\n",
      "Obtaining data from 2019-06-04 19:00:00\n",
      "Obtaining data from 2019-06-04 20:00:00\n",
      "Obtaining data from 2019-06-04 21:00:00\n",
      "Obtaining data from 2019-06-04 22:00:00\n",
      "Obtaining data from 2019-06-04 23:00:00\n",
      "Obtaining data from 2019-06-05 10:00:00\n",
      "Obtaining data from 2019-06-05 11:00:00\n",
      "Obtaining data from 2019-06-05 12:00:00\n",
      "Obtaining data from 2019-06-05 13:00:00\n",
      "Obtaining data from 2019-06-05 14:00:00\n",
      "Obtaining data from 2019-06-05 15:00:00\n",
      "Obtaining data from 2019-06-05 16:00:00\n",
      "Obtaining data from 2019-06-05 17:00:00\n",
      "Obtaining data from 2019-06-05 18:00:00\n",
      "Obtaining data from 2019-06-05 19:00:00\n",
      "Obtaining data from 2019-06-05 20:00:00\n",
      "Obtaining data from 2019-06-05 21:00:00\n",
      "Obtaining data from 2019-06-05 22:00:00\n",
      "Obtaining data from 2019-06-05 23:00:00\n",
      "Obtaining data from 2019-06-06 10:00:00\n",
      "Obtaining data from 2019-06-06 11:00:00\n",
      "Obtaining data from 2019-06-06 12:00:00\n",
      "Obtaining data from 2019-06-06 13:00:00\n",
      "Obtaining data from 2019-06-06 14:00:00\n",
      "Obtaining data from 2019-06-06 15:00:00\n",
      "Obtaining data from 2019-06-06 16:00:00\n"
     ]
    }
   ],
   "source": [
    "df = get_data('../../data/floatpop', '2019-06-01', 7, '東京都', 'train')"
   ]
  },
  {
   "cell_type": "code",
   "execution_count": 38,
   "metadata": {},
   "outputs": [
    {
     "output_type": "execute_result",
     "data": {
      "text/plain": [
       "0.10880362272970735"
      ]
     },
     "metadata": {},
     "execution_count": 38
    }
   ],
   "source": [
    "len(df.dailyid.unique())/len(df)"
   ]
  }
 ]
}